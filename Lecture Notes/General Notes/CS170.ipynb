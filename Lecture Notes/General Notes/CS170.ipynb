{
 "cells": [
  {
   "attachments": {},
   "cell_type": "markdown",
   "metadata": {},
   "source": [
    "# CS 170"
   ]
  },
  {
   "attachments": {},
   "cell_type": "markdown",
   "metadata": {},
   "source": [
    "## Hello Word!"
   ]
  },
  {
   "cell_type": "code",
   "execution_count": 54,
   "metadata": {},
   "outputs": [
    {
     "name": "stdout",
     "output_type": "stream",
     "text": [
      "Hello CS 170 World!\n"
     ]
    }
   ],
   "source": [
    "System.out.println(\"Hello CS 170 World!\");"
   ]
  },
  {
   "attachments": {},
   "cell_type": "markdown",
   "metadata": {},
   "source": [
    "## Errors and Debugging\n",
    "\n",
    "### Does my program work?\n",
    "- It's very difficult to prove mathematically that a program works as expected\n",
    "    - There are advanced formal techniques used in very sensitive applications (flight controllers, medical devices, ...)\n",
    "- Instead, we try the program with a representative set of inputs and check the results: **Testing**.\n",
    "\n",
    "### Testing\n",
    "- Try all the examples that are given to you with the problem\n",
    "- Think of edge cases or extreme cases: zero, smallest or biggest possible values, boundaries of conditional statements, beginning and ending values in loops, etc. \n",
    "- It is helpful to write your test cases even before writing the code.\n",
    "    - It helps you understand the problem better.\n",
    "- Test your code often while you program\n",
    "    - Incrementally test and fix partial program\n",
    "\n",
    "\n",
    "### Errors\n",
    "- Syntax errors (compile-time errors)\n",
    "    - The code doesn't compile nor execute\n",
    "    - Relatively easy to find and fix\n",
    "    - Read the system messages\n",
    "    - Often the error is in the line before the line the system indicates\n",
    "-Logical errors (execution errors, run-time errors)\n",
    "    - The code executes, but it does not work as expected\n",
    "    - The program may crash\n",
    "    - The program may never end (infinite loops)\n",
    "    - The program may give incorrect results\n",
    "\n",
    "\n",
    "### Debugging Steps\n",
    "- Reproduce the problem\n",
    "    - Find the input values that trigger the problem\n",
    "    - What is the program supposed to do? (expected output)\n",
    "    - What is the program doing instead? (real output)\n",
    "- Examine the program behavior for that input\n",
    "    - Code tracing\n",
    "    - Visualize the internal state of the program with temporary print statements\n",
    "- Fix only one thing at a time\n",
    "    - Changing many things at the same time will get you out of control\n",
    "- Retest all your test cases\n",
    "    - Your fix might have broken something else\n",
    "- Clean up your code\n",
    "    - Remove all temporary print statements, temporary variables, breaks, etc. "
   ]
  },
  {
   "attachments": {},
   "cell_type": "markdown",
   "metadata": {},
   "source": [
    "## Values, Types, and Operators"
   ]
  },
  {
   "attachments": {},
   "cell_type": "markdown",
   "metadata": {},
   "source": [
    "### Values\n",
    "\n",
    "Every value has a type"
   ]
  },
  {
   "attachments": {},
   "cell_type": "markdown",
   "metadata": {},
   "source": [
    "`int`: ***Integers***"
   ]
  },
  {
   "cell_type": "code",
   "execution_count": 57,
   "metadata": {},
   "outputs": [
    {
     "name": "stdout",
     "output_type": "stream",
     "text": [
      "90\n",
      "0\n",
      "-5\n"
     ]
    }
   ],
   "source": [
    "System.out.println(90);\n",
    "System.out.println(0);\n",
    "System.out.println(-5);"
   ]
  },
  {
   "attachments": {},
   "cell_type": "markdown",
   "metadata": {},
   "source": [
    "`double`: ***float point numbers***\n",
    "\n",
    "***Note***: \n",
    "- Important: although `1` and `1.0` is the same mathematically, `1` is a value of type `int`, and `1.0` is a value of type `double`.\n",
    "\n",
    "- Tough the result only returns several digits of pi (around 15 digits), the value of `Math.PI` stored in the computer is larger. "
   ]
  },
  {
   "cell_type": "code",
   "execution_count": 58,
   "metadata": {},
   "outputs": [
    {
     "name": "stdout",
     "output_type": "stream",
     "text": [
      "5.2\n",
      "1.0\n",
      "-2.5\n",
      "3.141592653589793\n"
     ]
    }
   ],
   "source": [
    "System.out.println(5.2);\n",
    "System.out.println(1.0);\n",
    "System.out.println(-2.5);\n",
    "System.out.println(Math.PI);"
   ]
  },
  {
   "attachments": {},
   "cell_type": "markdown",
   "metadata": {},
   "source": [
    "`String`: Text Strings\n",
    "\n",
    "***Note***: \n",
    "- `String` is a Java type name, and `string` is a regular name.\n",
    "- Use `\\\"` we can include quotes in a string. This notation is called escaping the quotes\n",
    "- Without escaping the quotes, we will get syntax errors. "
   ]
  },
  {
   "cell_type": "code",
   "execution_count": 59,
   "metadata": {},
   "outputs": [
    {
     "name": "stdout",
     "output_type": "stream",
     "text": [
      "hello\n",
      "Hey you\n",
      "\n",
      "5\n",
      "hello \"stranger\"!!!\n"
     ]
    }
   ],
   "source": [
    "System.out.println(\"hello\");\n",
    "System.out.println(\"Hey you\");\n",
    "\n",
    "// Here gives an example of empty string. The result will be just an empty line.\n",
    "System.out.println(\"\");\n",
    "\n",
    "// The following example is not integer `5`, but the string `\"5\"`.\n",
    "System.out.println(\"5\");\n",
    "\n",
    "System.out.println(\"hello \\\"stranger\\\"!!!\");\n",
    "// System.out.println(\"hello \"stranger\"!!!\"); // ERROR! "
   ]
  },
  {
   "attachments": {},
   "cell_type": "markdown",
   "metadata": {},
   "source": [
    "***Object***\n",
    "\n",
    "> An Object is a type composed of multiple values (attributes) and also the definition of operations (methods)\n",
    "\n",
    "**E.g.** a `Turtle` is an Object."
   ]
  },
  {
   "attachments": {},
   "cell_type": "markdown",
   "metadata": {},
   "source": [
    "### Operators"
   ]
  },
  {
   "attachments": {},
   "cell_type": "markdown",
   "metadata": {},
   "source": [
    "***Arithmetic Operators***: `+`, `-`, `*`, `%`"
   ]
  },
  {
   "cell_type": "code",
   "execution_count": 62,
   "metadata": {},
   "outputs": [
    {
     "name": "stdout",
     "output_type": "stream",
     "text": [
      "--- Addition ---\n",
      "3\n",
      "3.5\n",
      "3.3\n",
      "3.0\n",
      "--- Subtraction ---\n",
      "-1\n",
      "1.5\n",
      "--- Multiplication ---\n",
      "6\n",
      "7.0\n",
      "--- Division ---\n",
      "1\n",
      "2\n",
      "1\n",
      "2.5\n",
      "2.5\n",
      "2.5\n",
      "--- Compare ---\n",
      "51.42857142857143\n",
      "51\n"
     ]
    }
   ],
   "source": [
    "System.out.println(\"--- Addition ---\");\n",
    "System.out.println(1 + 2); // 3 (int)\n",
    "System.out.println(1.2 + 2.3); // 3.5 (double)\n",
    "System.out.println(1 + 2.3); // 3.3 (double)\n",
    "System.out.println(1.0 + 2); // 3.0 (double)\n",
    "\n",
    "System.out.println(\"--- Subtraction ---\");\n",
    "System.out.println(1 - 2); // -1 (int)\n",
    "System.out.println(2.5 - 1); // 1.5 (double)\n",
    "\n",
    "System.out.println(\"--- Multiplication ---\");\n",
    "System.out.println(2 * 3); // 6 (int)\n",
    "System.out.println(2 * 3.5); // 7.0 (double)\n",
    "\n",
    "System.out.println(\"--- Division ---\");\n",
    "// Integer division: int / int = int\n",
    "System.out.println(3 / 2); // 1 (int)\n",
    "System.out.println(5 / 2); // 2 (int)\n",
    "System.out.println(5 / 3); // 1 (int)\n",
    "// Double division: double / double = double\n",
    "System.out.println(5.0 / 2.0); // 2.5 (double)\n",
    "// Double - Integer division: double / int = double; int / double = double\n",
    "// The way Java operate this is to promote the integer to the double, which makes the result double.\n",
    "System.out.println(5.0 / 2); // 2.5 (double)\n",
    "System.out.println(5 / 2.0); // 2.5 (double)\n",
    "\n",
    "System.out.println(\"--- Compare ---\");\n",
    "System.out.println(360.0 / 7);\n",
    "System.out.println(360 / 7); "
   ]
  },
  {
   "attachments": {},
   "cell_type": "markdown",
   "metadata": {},
   "source": [
    "***Modulo***: `%`\n",
    "\n",
    "- If `x % n` is `0`, then `x` is a multiple of `n`\n",
    "- If `x % n` is always between `0` and `n-1` (always smaller than `n`)"
   ]
  },
  {
   "cell_type": "code",
   "execution_count": 63,
   "metadata": {},
   "outputs": [
    {
     "name": "stdout",
     "output_type": "stream",
     "text": [
      "1\n",
      "1\n",
      "0\n",
      "1\n",
      "2\n",
      "3\n",
      "0\n"
     ]
    }
   ],
   "source": [
    "System.out.println(7 % 2); // 1\n",
    "System.out.println(7 % 3); // 1\n",
    "System.out.println(0 % 4); // 0\n",
    "System.out.println(1 % 4); // 1\n",
    "System.out.println(2 % 4); // 2\n",
    "System.out.println(3 % 4); // 3\n",
    "System.out.println(4 % 4); // 0"
   ]
  },
  {
   "attachments": {},
   "cell_type": "markdown",
   "metadata": {},
   "source": [
    "***String Concatenation***: `+`"
   ]
  },
  {
   "cell_type": "code",
   "execution_count": 64,
   "metadata": {},
   "outputs": [
    {
     "name": "stdout",
     "output_type": "stream",
     "text": [
      "helloeveryone\n",
      "hey you\n",
      "helloeveryone\n",
      "hello5\n"
     ]
    }
   ],
   "source": [
    "System.out.println(\"hello\" + \"everyone\"); // \"helloeveryone\"\n",
    "System.out.println(\"hey\" + \" you\"); // \"hey you\"\n",
    "System.out.println(\"hello\" + \"\" + \"everyone\"); // \"hello everyone\"\n",
    "System.out.println(\"hello\" + \"5\"); // \"hello5\""
   ]
  },
  {
   "attachments": {},
   "cell_type": "markdown",
   "metadata": {},
   "source": [
    "If we connect one string and an integer using `+`, we will get: \n",
    "\n",
    "```java\n",
    "String + int = String\n",
    "int + String = String\n",
    "```\n",
    "*The way java work here is to promote an integer to a string, which results the final output to be a string.*\n"
   ]
  },
  {
   "cell_type": "code",
   "execution_count": 65,
   "metadata": {},
   "outputs": [
    {
     "name": "stdout",
     "output_type": "stream",
     "text": [
      "hello5\n",
      "12\n",
      "33\n",
      "123\n",
      "15\n"
     ]
    }
   ],
   "source": [
    "System.out.println(\"hello\" + 5); // \"hello5\"\n",
    "System.out.println(1 + \"2\"); // \"12\"\n",
    "System.out.println(1 + 2 + \"3\"); // \"33\"\n",
    "    // Explanation: As Java reads the code from left to right, it will calculate `1+2` first, which is 3 (int).\n",
    "    // Then add `3` (int) to `\"3\"` (string), resulting the final `\"33\"` (string). If we want to overwrite the order, we need `()`\n",
    "System.out.println(\"1\" + 2 + 3); // \"123\"\n",
    "    // Explanation: First calculate `\"1\" + 2`, which is `\"12\"`. Then calculate `\"12\" + 3`, which is `\"123\"`\n",
    "System.out.println(\"1\" + (2 + 3)); // \"15\"\n",
    "    // Explanation: Because the `()`, we will first calculate `2 + 3`, which is `5` (int). \n",
    "    // Then, `5` (int) is promoted to the string `\"1\"`."
   ]
  },
  {
   "attachments": {},
   "cell_type": "markdown",
   "metadata": {},
   "source": [
    "***Length of a String***: `String.length()`\n",
    "\n",
    "***Note***: \n",
    "- the space is also a character.\n",
    "- Similarly, the quotation marks are also characters."
   ]
  },
  {
   "cell_type": "code",
   "execution_count": 66,
   "metadata": {},
   "outputs": [
    {
     "name": "stdout",
     "output_type": "stream",
     "text": [
      "5\n",
      "0\n",
      "7\n",
      "9\n"
     ]
    }
   ],
   "source": [
    "System.out.println(\"hello\".length()); // 5\n",
    "System.out.println(\"\".length()); // 0\n",
    "System.out.println(\"hey you\".length()); // 7\n",
    "System.out.println(\"hey \\\"you\\\"\".length()); // 9"
   ]
  },
  {
   "attachments": {},
   "cell_type": "markdown",
   "metadata": {},
   "source": [
    "### Type Conversions"
   ]
  },
  {
   "attachments": {},
   "cell_type": "markdown",
   "metadata": {},
   "source": [
    "`int` $\\rightarrow$ `double`"
   ]
  },
  {
   "cell_type": "code",
   "execution_count": 67,
   "metadata": {},
   "outputs": [
    {
     "name": "stdout",
     "output_type": "stream",
     "text": [
      "5.0\n",
      "5.0\n"
     ]
    }
   ],
   "source": [
    "System.out.println(1.0 * 5); // 5.0\n",
    "System.out.println(0.0 + 5); // 5.0"
   ]
  },
  {
   "attachments": {},
   "cell_type": "markdown",
   "metadata": {},
   "source": [
    "Or, we can use a type cast, which is a direct way to convert the types. "
   ]
  },
  {
   "cell_type": "code",
   "execution_count": 68,
   "metadata": {},
   "outputs": [
    {
     "name": "stdout",
     "output_type": "stream",
     "text": [
      "5.0\n"
     ]
    }
   ],
   "source": [
    "System.out.println((double)5); // 5.0"
   ]
  },
  {
   "attachments": {},
   "cell_type": "markdown",
   "metadata": {},
   "source": [
    "`double` $\\rightarrow$ `int`\n",
    "\n",
    "We will use type cast to convert double to int. \n",
    "\n",
    "However, if double value is not mathematically equal to an integer, we will have information loss. \n",
    "\n",
    "***Note***: anything after the decimal place will be omitted. Or, in other word, the type cast will always round down.\n"
   ]
  },
  {
   "cell_type": "code",
   "execution_count": 69,
   "metadata": {},
   "outputs": [
    {
     "name": "stdout",
     "output_type": "stream",
     "text": [
      "5\n",
      "5\n",
      "3\n"
     ]
    }
   ],
   "source": [
    "System.out.println((int)5.0); // 5 (int)\n",
    "System.out.println((int)5.7); // 5 (int)\n",
    "System.out.println((int)Math.PI); // 3"
   ]
  },
  {
   "attachments": {},
   "cell_type": "markdown",
   "metadata": {},
   "source": [
    "`int` or `double` $\\rightarrow$ `String`\n",
    "\n",
    "***Note***: We cannot type cast a number to `String`*"
   ]
  },
  {
   "cell_type": "code",
   "execution_count": 70,
   "metadata": {},
   "outputs": [
    {
     "name": "stdout",
     "output_type": "stream",
     "text": [
      "5\n",
      "3.141592653589793\n",
      "Math.PI\n"
     ]
    }
   ],
   "source": [
    "System.out.println(\"\" + 5); // \"5\"\n",
    "// System.out.println((String)5); // ERROR! \n",
    "System.out.println(\"\" + Math.PI); // \"3.14159...\"\n",
    "System.out.println(\"\" + \"Math.PI\"); // \"Math.PI\""
   ]
  },
  {
   "attachments": {},
   "cell_type": "markdown",
   "metadata": {},
   "source": [
    "`String` $\\rightarrow$ `int`\n",
    "\n",
    "We can use `Integer.parseInt()` (method) to convert a string to an integer.\n",
    "\n",
    "```java\n",
    "Integer.parseInt(\"String\")\n",
    "```\n",
    "\n",
    "***Note***: If we are trying to convert a string that cannot be converted into an integer, we will get a logic error"
   ]
  },
  {
   "cell_type": "code",
   "execution_count": 72,
   "metadata": {},
   "outputs": [
    {
     "name": "stdout",
     "output_type": "stream",
     "text": [
      "5\n",
      "7\n",
      "52\n"
     ]
    }
   ],
   "source": [
    "System.out.println(Integer.parseInt(\"5\")); // 5 (int)\n",
    "System.out.println(Integer.parseInt(\"5\") + 2); // 7 (int)\n",
    "System.out.println(Integer.parseInt(\"5\" + 2)); // 52 (int)\n",
    "// System.out.println(Integer.parseInt(\"hello5\")); // ERROR"
   ]
  },
  {
   "attachments": {},
   "cell_type": "markdown",
   "metadata": {},
   "source": [
    "`String` $\\rightarrow$ `double`\n",
    "\n",
    "We can use `Double.parseDouble()` (method) to convert a string to a double"
   ]
  },
  {
   "cell_type": "code",
   "execution_count": null,
   "metadata": {},
   "outputs": [],
   "source": [
    "System.out.println(Double.parseDouble(\"5.7\")); // 5.7 (double)\n",
    "System.out.println(Double.parseDouble(\"5\")); // 5.0 (double)\n",
    "// System.out.println(Double.parseDouble(Math.PI)); // ERROR: Math.PI is already a double.\n",
    "// System.out.println(Double.parseDouble(\"Math.PI\")); // ERROR: \"Math.PI\" is a text string, and does not represent any numbers."
   ]
  },
  {
   "attachments": {},
   "cell_type": "markdown",
   "metadata": {},
   "source": [
    "### Operator Precedence\n",
    "\n",
    "We can modify the precedence using parentheses\n"
   ]
  },
  {
   "cell_type": "code",
   "execution_count": 73,
   "metadata": {},
   "outputs": [
    {
     "name": "stdout",
     "output_type": "stream",
     "text": [
      "7\n",
      "9\n",
      "33\n",
      "123\n"
     ]
    }
   ],
   "source": [
    "System.out.println(1 + 2 * 3); // 7\n",
    "System.out.println((1 + 2) * 3); // 9\n",
    "System.out.println(1 + 2 + \"3\"); // \"33\"\n",
    "System.out.println(1 + (2 + \"3\")); // \"123\""
   ]
  },
  {
   "attachments": {},
   "cell_type": "markdown",
   "metadata": {},
   "source": [
    "## Variables"
   ]
  },
  {
   "attachments": {},
   "cell_type": "markdown",
   "metadata": {},
   "source": [
    "### Declare a Variable and Assign Values"
   ]
  },
  {
   "cell_type": "code",
   "execution_count": 74,
   "metadata": {},
   "outputs": [
    {
     "name": "stdout",
     "output_type": "stream",
     "text": [
      "3\n"
     ]
    }
   ],
   "source": [
    "int x; // declare a variable named x of type int\n",
    "x = 3; // assign value 3 to variable x\n",
    "System.out.println(x);"
   ]
  },
  {
   "attachments": {},
   "cell_type": "markdown",
   "metadata": {},
   "source": [
    "### Variables Whose Value is Dependent on Other Variables"
   ]
  },
  {
   "cell_type": "code",
   "execution_count": 75,
   "metadata": {},
   "outputs": [
    {
     "name": "stdout",
     "output_type": "stream",
     "text": [
      "x contains 3\n",
      "y contains 5\n",
      "z contains 8\n"
     ]
    }
   ],
   "source": [
    "int y = 5; // declare a variable and assign a value to it (in the same line)\n",
    "int z;\n",
    "z = x + y;\n",
    "System.out.println(\"x contains \" + x); // 3\n",
    "System.out.println(\"y contains \" + y); // 5\n",
    "System.out.println(\"z contains \" + z); // 8"
   ]
  },
  {
   "attachments": {},
   "cell_type": "markdown",
   "metadata": {},
   "source": [
    "### Reassign Variables"
   ]
  },
  {
   "cell_type": "code",
   "execution_count": 76,
   "metadata": {},
   "outputs": [
    {
     "name": "stdout",
     "output_type": "stream",
     "text": [
      "x contains 30\n",
      "y contains 50\n",
      "z contains 8\n"
     ]
    }
   ],
   "source": [
    "x = 30; // variable reassignment (the variable has been assigned a value)\n",
    "y = 50;\n",
    "System.out.println(\"x contains \" + x); // 30\n",
    "System.out.println(\"y contains \" + y); // 50\n",
    "System.out.println(\"z contains \" + z); // 8\n",
    "// IMPORTANT: \"=\" is only an assignment operator, which in this case, the value of z is not reassigned, so the value of z is not changed. "
   ]
  },
  {
   "cell_type": "code",
   "execution_count": 77,
   "metadata": {},
   "outputs": [
    {
     "name": "stdout",
     "output_type": "stream",
     "text": [
      "x contains 31\n"
     ]
    }
   ],
   "source": [
    "x = x + 1; // this does not make sense mathematically, but it means to reassign the value (x+1) to x in Java.\n",
    "System.out.println(\"x contains \" + x); // 31"
   ]
  },
  {
   "cell_type": "code",
   "execution_count": 78,
   "metadata": {},
   "outputs": [
    {
     "name": "stdout",
     "output_type": "stream",
     "text": [
      "x contains 5\n"
     ]
    }
   ],
   "source": [
    "// x = 5.2; // ERROR: because we have specified the type of x is int\n",
    "x = (int)5.2; // we have to convert 5.2 (double) to an int\n",
    "System.out.println(\"x contains \" + x); // 5\n",
    "double k = 5;\n",
    "System.out.println(\"k contains \" + k); // 5.0\n",
    "// double x = 5.2; // ERROR: becasue we cannot re-declare a variable\n",
    "// Note: the same variable name can be reused in another method."
   ]
  },
  {
   "attachments": {},
   "cell_type": "markdown",
   "metadata": {},
   "source": [
    "## Methods\n",
    "\n",
    "- `void` the method will not return anything\n",
    "- `int` the method will return int\n",
    "- `double` the method will return double\n",
    "- `String` the method will return String"
   ]
  },
  {
   "attachments": {},
   "cell_type": "markdown",
   "metadata": {},
   "source": [
    "***Example1***"
   ]
  },
  {
   "cell_type": "code",
   "execution_count": 79,
   "metadata": {},
   "outputs": [],
   "source": [
    "public static int addOne(int x) { // \"int\": declaring the method will return a value of int\n",
    "    System.out.println(\"x contains: \" + x);\n",
    "    return x + 1;\n",
    "}"
   ]
  },
  {
   "cell_type": "code",
   "execution_count": 80,
   "metadata": {},
   "outputs": [
    {
     "name": "stdout",
     "output_type": "stream",
     "text": [
      "x contains: 1\n",
      "a contains: 1\n",
      "b contains: 2\n"
     ]
    }
   ],
   "source": [
    "int a;\n",
    "int b;\n",
    "a = 1;\n",
    "b = addOne(a);\n",
    "System.out.println(\"a contains: \" + a);\n",
    "System.out.println(\"b contains: \" + b);"
   ]
  },
  {
   "cell_type": "code",
   "execution_count": 81,
   "metadata": {},
   "outputs": [
    {
     "name": "stdout",
     "output_type": "stream",
     "text": [
      "x contains: 2\n",
      "c contains: 3\n"
     ]
    }
   ],
   "source": [
    "int c = addOne(b);\n",
    "System.out.println(\"c contains: \"+ c);\n",
    "//System.out.println(\"x contains: \" +x); // ERROR! There is not x in main"
   ]
  },
  {
   "attachments": {},
   "cell_type": "markdown",
   "metadata": {},
   "source": [
    "***Example2***"
   ]
  },
  {
   "cell_type": "code",
   "execution_count": 82,
   "metadata": {},
   "outputs": [],
   "source": [
    "public static int sum(int x, int y) {\n",
    "    int z = x + y;\n",
    "    return z;\n",
    "}"
   ]
  },
  {
   "cell_type": "code",
   "execution_count": null,
   "metadata": {},
   "outputs": [],
   "source": [
    "int d = sum(10, 15); \n",
    "System.out.println(\"d contains: \"+ d);"
   ]
  },
  {
   "attachments": {},
   "cell_type": "markdown",
   "metadata": {},
   "source": [
    "## For Loop and Accumulation\n",
    "\n",
    "Accumulation strategy:\n",
    "1. Initialize a variable that will contain the result\n",
    "2. Update the result inside a loop\n",
    "3. After the loop, finalize (if needed) and return the result"
   ]
  },
  {
   "attachments": {},
   "cell_type": "markdown",
   "metadata": {},
   "source": [
    "***Example1***"
   ]
  },
  {
   "cell_type": "code",
   "execution_count": 1,
   "metadata": {},
   "outputs": [],
   "source": [
    "// sumN calculates the sum from 1 to n.\n",
    "public static int sumN(int n) {\n",
    "    int result = 0;\n",
    "    for (int i = 1; i <= n; i++) {\n",
    "        result = result + i; // we can also use result += 1\n",
    "    }\n",
    "    return result;\n",
    "}"
   ]
  },
  {
   "cell_type": "code",
   "execution_count": 5,
   "metadata": {},
   "outputs": [
    {
     "name": "stdout",
     "output_type": "stream",
     "text": [
      "------ Test Cases for sumN ------\n",
      "0\n",
      "1\n",
      "3\n",
      "15\n",
      "55\n"
     ]
    }
   ],
   "source": [
    "System.out.println(\"------ Test Cases for sumN ------\");\n",
    "System.out.println(sumN(0)); // 0\n",
    "System.out.println(sumN(1)); // 1\n",
    "System.out.println(sumN(2)); // 3\n",
    "System.out.println(sumN(5)); // 15\n",
    "System.out.println(sumN(10)); // 55"
   ]
  },
  {
   "attachments": {},
   "cell_type": "markdown",
   "metadata": {},
   "source": [
    "***Example2***"
   ]
  },
  {
   "cell_type": "code",
   "execution_count": 3,
   "metadata": {},
   "outputs": [],
   "source": [
    "// sumN calculates the product from 1 to n. (factorial of n)\n",
    "public static int multN(int n) {\n",
    "    int result = 1;\n",
    "    for (int i = 1; i <= n; i++) {\n",
    "        // result = result * i; we can also use\n",
    "        result *= i;\n",
    "    }\n",
    "    return result;\n",
    "}"
   ]
  },
  {
   "cell_type": "code",
   "execution_count": 6,
   "metadata": {},
   "outputs": [
    {
     "name": "stdout",
     "output_type": "stream",
     "text": [
      "------ Test Cases for sumtN ------\n",
      "1\n",
      "2\n",
      "6\n",
      "120\n",
      "3628800\n",
      "1\n"
     ]
    }
   ],
   "source": [
    "System.out.println(\"------ Test Cases for sumtN ------\");\n",
    "System.out.println(multN(1)); // 1\n",
    "System.out.println(multN(2)); // 2\n",
    "System.out.println(multN(3)); // 6\n",
    "System.out.println(multN(5)); // 120\n",
    "System.out.println(multN(10)); // 3,628,800\n",
    "System.out.println(multN(0)); // 1 \n",
    "    //because the loop starts at i = 1, the loop is completed before it even started. \n",
    "    //The initial result (result = 1) is returned. "
   ]
  },
  {
   "attachments": {},
   "cell_type": "markdown",
   "metadata": {},
   "source": [
    "***Example3***"
   ]
  },
  {
   "cell_type": "code",
   "execution_count": 7,
   "metadata": {},
   "outputs": [],
   "source": [
    "// sumMult5 sums all the positive integers multiple of 5 up to n (included)\n",
    "// We can use the conditional statement to address this problem, but we can also complete the task without using the conditional statements. \n",
    "public static int sumMult5(int n) {\n",
    "    int result = 0;\n",
    "    for (int i = 5; i <= n; i += 5) {\n",
    "        result += i;\n",
    "    }\n",
    "    return result; \n",
    "}"
   ]
  },
  {
   "cell_type": "code",
   "execution_count": 8,
   "metadata": {},
   "outputs": [
    {
     "name": "stdout",
     "output_type": "stream",
     "text": [
      "------ Test Cases for sumMult5 ------\n",
      "0\n",
      "0\n",
      "5\n",
      "5\n",
      "15\n",
      "30\n",
      "30\n"
     ]
    }
   ],
   "source": [
    "System.out.println(\"------ Test Cases for sumMult5 ------\");\n",
    "System.out.println(sumMult5(0)); // 0\n",
    "System.out.println(sumMult5(3)); // 0\n",
    "System.out.println(sumMult5(5)); // 5\n",
    "System.out.println(sumMult5(6)); // 5\n",
    "System.out.println(sumMult5(12)); // 15\n",
    "System.out.println(sumMult5(15)); // 30\n",
    "System.out.println(sumMult5(16)); // 30"
   ]
  },
  {
   "attachments": {},
   "cell_type": "markdown",
   "metadata": {},
   "source": [
    "***Example 4***\n",
    ": We can also accumulate Strings"
   ]
  },
  {
   "cell_type": "code",
   "execution_count": 9,
   "metadata": {},
   "outputs": [],
   "source": [
    "// We can also accumulate strings.\n",
    "    // multiplyString will repeat the String s by n times. \n",
    "    public static String multiplyString(String s, int n) {\n",
    "        String result = \"\";\n",
    "        for (int i = 0; i < n; i++) {\n",
    "            result += s;\n",
    "        }\n",
    "        return result;\n",
    "    }"
   ]
  },
  {
   "cell_type": "code",
   "execution_count": 10,
   "metadata": {},
   "outputs": [
    {
     "name": "stdout",
     "output_type": "stream",
     "text": [
      "------ Test Cases for multiplyString ------\n",
      "heyheyhey\n",
      "\n",
      "hey\n",
      "\n",
      "hhhhh\n",
      "33333\n"
     ]
    }
   ],
   "source": [
    "System.out.println(\"------ Test Cases for multiplyString ------\");\n",
    "System.out.println(multiplyString(\"hey\", 3)); // \"heyheyhey\"\n",
    "System.out.println(multiplyString(\"hey\", 0)); // \"\"\n",
    "System.out.println(multiplyString(\"hey\", 1)); // \"hey\"\n",
    "System.out.println(multiplyString(\"\", 100)); // \"\"\n",
    "System.out.println(multiplyString(\"h\", 5)); // \"hhhhh\"\n",
    "System.out.println(multiplyString(\"3\", 5)); // \"33333\""
   ]
  },
  {
   "attachments": {},
   "cell_type": "markdown",
   "metadata": {},
   "source": [
    "## Boolean Expression"
   ]
  },
  {
   "attachments": {},
   "cell_type": "markdown",
   "metadata": {},
   "source": [
    "### Boolean Values"
   ]
  },
  {
   "cell_type": "code",
   "execution_count": 11,
   "metadata": {},
   "outputs": [
    {
     "name": "stdout",
     "output_type": "stream",
     "text": [
      "------ Boolean Values Test ------\n",
      "true\n",
      "false\n",
      "true\n"
     ]
    }
   ],
   "source": [
    "System.out.println(\"------ Boolean Values Test ------\");\n",
    "System.out.println(true);\n",
    "System.out.println(false);\n",
    "System.out.println(\"true\"); // this is a string, not a Boolean value"
   ]
  },
  {
   "attachments": {},
   "cell_type": "markdown",
   "metadata": {},
   "source": [
    "### Boolean Expressions\n",
    "\n",
    "Expressions that evaluate to a boolean value: `<`, `>`, `==`, `!=`"
   ]
  },
  {
   "cell_type": "code",
   "execution_count": 12,
   "metadata": {},
   "outputs": [
    {
     "name": "stdout",
     "output_type": "stream",
     "text": [
      "------ Boolean Expressions Test ------\n",
      "false\n",
      "true\n",
      "false\n",
      "true\n"
     ]
    }
   ],
   "source": [
    "System.out.println(\"------ Boolean Expressions Test ------\");\n",
    "System.out.println(5 < 2); // false\n",
    "System.out.println(2 < 5); // true\n",
    "// System.out.println(5 = 2); // ERROR! \n",
    "System.out.println(5 == 2); // false\n",
    "System.out.println(5 == 5); // true\n",
    "// WARNING: do not use == to compare two strings"
   ]
  },
  {
   "attachments": {},
   "cell_type": "markdown",
   "metadata": {},
   "source": [
    "### Boolean Variables"
   ]
  },
  {
   "cell_type": "code",
   "execution_count": 13,
   "metadata": {},
   "outputs": [
    {
     "name": "stdout",
     "output_type": "stream",
     "text": [
      "------ Boolean Variables Test ------\n",
      "true\n",
      "false\n"
     ]
    }
   ],
   "source": [
    "System.out.println(\"------ Boolean Variables Test ------\");\n",
    "Boolean x = true;\n",
    "Boolean y = 5 < 2;\n",
    "System.out.println(x); // true\n",
    "System.out.println(y); // false"
   ]
  },
  {
   "attachments": {},
   "cell_type": "markdown",
   "metadata": {},
   "source": [
    "### Boolean Operators"
   ]
  },
  {
   "attachments": {},
   "cell_type": "markdown",
   "metadata": {},
   "source": [
    "Relational (comparison) Operators\n",
    "-  `<` less than\n",
    "-  `>` greater than\n",
    "-  `<=` less or equal\n",
    "-  `>=` greater or equal\n",
    "-  `==` equals\n",
    "-  `!=` not equal"
   ]
  },
  {
   "attachments": {},
   "cell_type": "markdown",
   "metadata": {},
   "source": [
    "Boolean (logical) Operators\n",
    "- `&&` and\n",
    "- `||` or\n",
    "- `!` not\n",
    "\n",
    "***Note***: When evaluating expressions involving both `&&` and `||`, Java will prioritize `&&`."
   ]
  },
  {
   "cell_type": "code",
   "execution_count": 14,
   "metadata": {},
   "outputs": [
    {
     "name": "stdout",
     "output_type": "stream",
     "text": [
      "------ Boolean Operators Test ------\n",
      "false\n",
      "true\n",
      "true\n",
      "false\n",
      "false\n",
      "false\n",
      "true\n",
      "true\n",
      "true\n",
      "false\n"
     ]
    }
   ],
   "source": [
    "System.out.println(\"------ Boolean Operators Test ------\");\n",
    "System.out.println(!true); // false\n",
    "System.out.println(!false); // true\n",
    "// && requires both conditions to be satisfied\n",
    "System.out.println(true && true); // true\n",
    "System.out.println(true && false); // false\n",
    "System.out.println(false && true); // false\n",
    "System.out.println(false && false); // false\n",
    "// || requires either condition to be satisfied\n",
    "System.out.println(true || true); // true\n",
    "System.out.println(true || false); // true\n",
    "System.out.println(false || true); // true\n",
    "System.out.println(false || false); // false"
   ]
  },
  {
   "attachments": {},
   "cell_type": "markdown",
   "metadata": {},
   "source": [
    "## Conditionals\n",
    "\n",
    "``` java\n",
    "if (condtion) {\n",
    "    body\n",
    "} else if (condition) {\n",
    "    body\n",
    "} else {\n",
    "\n",
    "}\n",
    "```"
   ]
  },
  {
   "attachments": {},
   "cell_type": "markdown",
   "metadata": {},
   "source": [
    "***Example1***"
   ]
  },
  {
   "cell_type": "code",
   "execution_count": 15,
   "metadata": {},
   "outputs": [],
   "source": [
    "// smallestNumber returns the smaller of two numbers\n",
    "public static double smallerNumber(double x, double y) {\n",
    "    if (x < y) {\n",
    "        return x;\n",
    "    } else {\n",
    "        return y;\n",
    "    }\n",
    "}"
   ]
  },
  {
   "cell_type": "code",
   "execution_count": 16,
   "metadata": {},
   "outputs": [
    {
     "name": "stdout",
     "output_type": "stream",
     "text": [
      "------ Test smallerNumber ------\n",
      "2.0\n",
      "2.0\n",
      "5.0\n"
     ]
    }
   ],
   "source": [
    "System.out.println(\"------ Test smallerNumber ------\");\n",
    "System.out.println(smallerNumber(5, 2)); // 2.0\n",
    "System.out.println(smallerNumber(2, 5)); // 2.0\n",
    "System.out.println(smallerNumber(5, 5)); // 5.0"
   ]
  },
  {
   "attachments": {},
   "cell_type": "markdown",
   "metadata": {},
   "source": [
    "***Example2***"
   ]
  },
  {
   "cell_type": "code",
   "execution_count": 17,
   "metadata": {},
   "outputs": [],
   "source": [
    "// longerString returns the longer of two strings\n",
    "public static String longerString(String s1, String s2) {\n",
    "    if (s1.length() > s2.length()) { // If we change < to <=, then the first one will be returned\n",
    "        return s1;\n",
    "    } else {\n",
    "        return s2; // If two strings have the same length, the later one will be returned\n",
    "    }\n",
    "}"
   ]
  },
  {
   "cell_type": "code",
   "execution_count": 18,
   "metadata": {},
   "outputs": [
    {
     "name": "stdout",
     "output_type": "stream",
     "text": [
      "------ Test longerString -----\n",
      "mathematics\n",
      "mathematics\n",
      "bbb\n",
      "aaa\n"
     ]
    }
   ],
   "source": [
    "System.out.println(\"------ Test longerString -----\");\n",
    "System.out.println(longerString(\"economics\", \"mathematics\")); // \"mathematics\"\n",
    "System.out.println(longerString(\"mathematics\", \"economics\")); // \"mathematics\"\n",
    "System.out.println(longerString(\"aaa\", \"bbb\")); // \"bbb\"\n",
    "System.out.println(longerString(\"bbb\", \"aaa\")); // \"aaa\""
   ]
  },
  {
   "attachments": {},
   "cell_type": "markdown",
   "metadata": {},
   "source": [
    "***Example3***\n",
    "\n",
    "Write a method named stateOfWater(double temp) that takes a number temp representing a temperature in degrees Celsius. The method returns the physical statement of water at that temperature: \n",
    "- \"solid\" if the temperature is below 0; \n",
    "- \"liquid\" if the temperature is between 0 and 100 (extremes included); and \n",
    "- \"gas\" if the temperature is above 100"
   ]
  },
  {
   "cell_type": "code",
   "execution_count": 19,
   "metadata": {},
   "outputs": [],
   "source": [
    "public static String stateOfWater(double temp) {\n",
    "    String state; // to avoid too many returns, we can introduce a variable here.\n",
    "    if (temp < 0) {\n",
    "        state = \"solid\";\n",
    "    } else if (temp > 100) {\n",
    "        state = \"gas\";\n",
    "    } else {\n",
    "        state = \"liquid\";\n",
    "    }\n",
    "    return state;\n",
    "}"
   ]
  },
  {
   "cell_type": "code",
   "execution_count": 20,
   "metadata": {},
   "outputs": [
    {
     "name": "stdout",
     "output_type": "stream",
     "text": [
      "------ Test stateOfWater -----\n",
      "solid\n",
      "liquid\n",
      "liquid\n",
      "liquid\n",
      "gas\n"
     ]
    }
   ],
   "source": [
    "System.out.println(\"------ Test stateOfWater -----\");\n",
    "System.out.println(stateOfWater(-10)); // \"solid\"\n",
    "System.out.println(stateOfWater(0)); // \"liquid\" (edge case)\n",
    "System.out.println(stateOfWater(30)); // \"liquid\"\n",
    "System.out.println(stateOfWater(100)); // \"liquid\" (edge case)\n",
    "System.out.println(stateOfWater(150)); // \"gas\""
   ]
  },
  {
   "cell_type": "code",
   "execution_count": 21,
   "metadata": {},
   "outputs": [],
   "source": [
    "/* or we can use \n",
    "String state;\n",
    "if (temp < 0) {\n",
    "    state = \"solid\";\n",
    "} else if (temp <= 100) { // whenever we can simply a logical expression, try to do so. \n",
    "    state = \"liquid\";\n",
    "} else {\n",
    "    state = \"gas\";\n",
    "}\n",
    "return state;\n",
    "*/"
   ]
  },
  {
   "attachments": {},
   "cell_type": "markdown",
   "metadata": {},
   "source": [
    "***Example4***"
   ]
  },
  {
   "cell_type": "code",
   "execution_count": 22,
   "metadata": {},
   "outputs": [],
   "source": [
    "// Return a letter grade given the number of points\n",
    "public static String letterGrade(int points) {\n",
    "    String letter;\n",
    "    if (points >= 900) {\n",
    "        letter = \"A\";\n",
    "    } else if (points >= 800) {\n",
    "        letter = \"B\";\n",
    "    } else if (points >= 700) {\n",
    "        letter = \"C\";\n",
    "    } else if (points >= 600) {\n",
    "        letter = \"D\";\n",
    "    } else {\n",
    "        letter = \"F\";\n",
    "    }\n",
    "    return letter;\n",
    "}"
   ]
  },
  {
   "cell_type": "code",
   "execution_count": 23,
   "metadata": {},
   "outputs": [
    {
     "name": "stdout",
     "output_type": "stream",
     "text": [
      "------ Test letterGrade -----\n",
      "A\n",
      "A\n",
      "B\n",
      "B\n",
      "C\n",
      "C\n",
      "D\n",
      "D\n",
      "F\n",
      "F\n",
      "F\n"
     ]
    }
   ],
   "source": [
    "System.out.println(\"------ Test letterGrade -----\");\n",
    "System.out.println(letterGrade(1000)); // \"A\"\n",
    "System.out.println(letterGrade(900)); // \"A\" (edge case)\n",
    "System.out.println(letterGrade(850)); // \"B\"\n",
    "System.out.println(letterGrade(800)); // \"B\" (edge case)\n",
    "System.out.println(letterGrade(750)); // \"C\"\n",
    "System.out.println(letterGrade(700)); // \"C\" (edge case)\n",
    "System.out.println(letterGrade(650)); // \"D\"\n",
    "System.out.println(letterGrade(600)); // \"D\" (edge case)\n",
    "System.out.println(letterGrade(550)); // \"F\"\n",
    "System.out.println(letterGrade(500)); // \"F\" (edge case)\n",
    "System.out.println(letterGrade(0)); // \"F\""
   ]
  },
  {
   "attachments": {},
   "cell_type": "markdown",
   "metadata": {},
   "source": [
    "***Example4*** - WRONG\n",
    "\n",
    "Here's a wrong code for example4."
   ]
  },
  {
   "cell_type": "code",
   "execution_count": 24,
   "metadata": {},
   "outputs": [],
   "source": [
    "public static String wrongLetterGrade(int points) {\n",
    "    String letter;\n",
    "    if (points >= 900) {\n",
    "        letter = \"A\";\n",
    "    } if (points >= 800) {\n",
    "        letter = \"B\";\n",
    "    } if (points >= 700) {\n",
    "        letter = \"C\";\n",
    "    } if (points >= 600) {\n",
    "        letter = \"D\"; // This code will keep returning \"D\" as long as points >= 600 because java will keep reassigning variables\n",
    "    } else {\n",
    "        letter = \"F\";\n",
    "    }\n",
    "    return letter;\n",
    "}"
   ]
  },
  {
   "cell_type": "code",
   "execution_count": 25,
   "metadata": {},
   "outputs": [
    {
     "name": "stdout",
     "output_type": "stream",
     "text": [
      "------ Test wrongLetterGrade -----\n",
      "D\n",
      "D\n",
      "D\n",
      "D\n",
      "D\n",
      "D\n",
      "D\n",
      "D\n",
      "F\n",
      "F\n",
      "F\n"
     ]
    }
   ],
   "source": [
    "System.out.println(\"------ Test wrongLetterGrade -----\");\n",
    "System.out.println(wrongLetterGrade(1000)); // \"D\"\n",
    "System.out.println(wrongLetterGrade(900)); // \"D\" (edge case)\n",
    "System.out.println(wrongLetterGrade(850)); // \"D\"\n",
    "System.out.println(wrongLetterGrade(800)); // \"D\" (edge case)\n",
    "System.out.println(wrongLetterGrade(750)); // \"D\"\n",
    "System.out.println(wrongLetterGrade(700)); // \"D\" (edge case)\n",
    "System.out.println(wrongLetterGrade(650)); // \"D\"\n",
    "System.out.println(wrongLetterGrade(600)); // \"D\" (edge case)\n",
    "System.out.println(wrongLetterGrade(550)); // \"F\"\n",
    "System.out.println(wrongLetterGrade(500)); // \"F\" (edge case)\n",
    "System.out.println(wrongLetterGrade(0)); // \"F\""
   ]
  },
  {
   "attachments": {},
   "cell_type": "markdown",
   "metadata": {},
   "source": [
    "## While Loop"
   ]
  },
  {
   "attachments": {},
   "cell_type": "markdown",
   "metadata": {},
   "source": [
    "***Example1***\n",
    ": simple repetition"
   ]
  },
  {
   "cell_type": "code",
   "execution_count": 26,
   "metadata": {},
   "outputs": [],
   "source": [
    "public static void manyHellos(int n) {\n",
    "    int i = n; // initialitation\n",
    "    while (i > 0) {\n",
    "        // loop body\n",
    "        System.out.println(\"Hello \" + i);\n",
    "        i--; // equivalent to i = i - 1 or i -= 1\n",
    "    }\n",
    "    System.out.println(\"Goodbye\");\n",
    "}"
   ]
  },
  {
   "cell_type": "code",
   "execution_count": 27,
   "metadata": {},
   "outputs": [
    {
     "name": "stdout",
     "output_type": "stream",
     "text": [
      "------ Test manyHellos ------\n",
      "Hello 3\n",
      "Hello 2\n",
      "Hello 1\n",
      "Goodbye\n"
     ]
    }
   ],
   "source": [
    "System.out.println(\"------ Test manyHellos ------\");\n",
    "manyHellos(3);"
   ]
  },
  {
   "attachments": {},
   "cell_type": "markdown",
   "metadata": {},
   "source": [
    "***Example2***\n",
    ": Accumulation\n",
    "\n",
    "Problem: Sum up the first n integers (including n) using a while loop"
   ]
  },
  {
   "cell_type": "code",
   "execution_count": 29,
   "metadata": {},
   "outputs": [],
   "source": [
    "public static int sumN(int n) {\n",
    "    int result = 0;\n",
    "    int i = 1;\n",
    "    while (i <= n) {\n",
    "        result += i;\n",
    "        i++;\n",
    "    } // the variable i does not disappear here because we declared the value i before the while loop.\n",
    "    // Using the for loop method, the variable i will disappear after the loop is completed. \n",
    "    return result;\n",
    "}"
   ]
  },
  {
   "cell_type": "code",
   "execution_count": 30,
   "metadata": {},
   "outputs": [
    {
     "name": "stdout",
     "output_type": "stream",
     "text": [
      "------ Test sumN ------\n",
      "10\n",
      "15\n"
     ]
    }
   ],
   "source": [
    "System.out.println(\"------ Test sumN ------\");\n",
    "System.out.println(sumN(4)); // 10\n",
    "System.out.println(sumN(5)); // 15"
   ]
  },
  {
   "cell_type": "code",
   "execution_count": 31,
   "metadata": {},
   "outputs": [],
   "source": [
    "public static int sumN_v2(int n) {\n",
    "    int result = 0;\n",
    "    while (n > 0) {\n",
    "        result += n;\n",
    "        n--;\n",
    "    }\n",
    "    return result;\n",
    "}"
   ]
  },
  {
   "cell_type": "code",
   "execution_count": 32,
   "metadata": {},
   "outputs": [
    {
     "name": "stdout",
     "output_type": "stream",
     "text": [
      "------ Test sumN_v2 ------\n",
      "10\n",
      "15\n"
     ]
    }
   ],
   "source": [
    "System.out.println(\"------ Test sumN_v2 ------\");\n",
    "System.out.println(sumN_v2(4)); // 10\n",
    "System.out.println(sumN_v2(5)); // 15"
   ]
  },
  {
   "attachments": {},
   "cell_type": "markdown",
   "metadata": {},
   "source": [
    "***Example3***\n",
    "Compound interest\n",
    "\n",
    "Problem: Given an initial amount of money and a fixed (compound) interest rate. How many years will it take to reach a certain final amount?"
   ]
  },
  {
   "cell_type": "code",
   "execution_count": 33,
   "metadata": {},
   "outputs": [],
   "source": [
    "public static int yearsToTarget(double initMoney, double interestRate, double targetMoney) {\n",
    "    int year = 0;\n",
    "    double money = initMoney;\n",
    "\n",
    "    System.out.println(\"Year\\tMoney\"); // header - \\t is a tab\n",
    "    System.out.println(year + \"\\t\" + money);\n",
    "\n",
    "    while (money < targetMoney) {\n",
    "        year ++;\n",
    "        money *= (1 + interestRate);\n",
    "        System.out.println(year + \"\\t\" + Math.round(money * 100) / 100.0);\n",
    "    } // if it was simple interest: money += initMoney * interestRate\n",
    "    return year;\n",
    "}\n",
    "// NOTE: we can solve example 3 with a FOR loop, but it is less intuitive:\n",
    "// for (double money = initMoney; money < targetMoney; money *= 1 + interestRate) {}"
   ]
  },
  {
   "cell_type": "code",
   "execution_count": 34,
   "metadata": {},
   "outputs": [
    {
     "name": "stdout",
     "output_type": "stream",
     "text": [
      "------ Test yearsToTarget ------\n",
      "Year\tMoney\n",
      "0\t1000.0\n",
      "1\t1050.0\n",
      "2\t1102.5\n",
      "3\t1157.63\n",
      "4\t1215.51\n",
      "5\t1276.28\n",
      "6\t1340.1\n",
      "7\t1407.1\n",
      "8\t1477.46\n",
      "9\t1551.33\n",
      "10\t1628.89\n",
      "11\t1710.34\n",
      "12\t1795.86\n",
      "13\t1885.65\n",
      "14\t1979.93\n",
      "15\t2078.93\n",
      "15\n"
     ]
    }
   ],
   "source": [
    "System.out.println(\"------ Test yearsToTarget ------\");\n",
    "System.out.println(yearsToTarget(1000, 0.05, 2000)); // 15"
   ]
  },
  {
   "attachments": {},
   "cell_type": "markdown",
   "metadata": {},
   "source": [
    "***Example4***\n",
    "Buy or Make?\n",
    "\n",
    "Problem: You own a factory. You need to decide whether it's cheaper to buy a certain product from an external supplier, or make it in your factory. If you buy it, the product costs p money per unit of product. If you make it, the product costs c per unit (with c smaller than p), plus a fixed initial amount k to purchase and set up the production machine. Can you calculate the break even quantity, i.e., the minimum quantity for which making the product is the same or cheaper than buying it?"
   ]
  },
  {
   "cell_type": "code",
   "execution_count": 35,
   "metadata": {},
   "outputs": [],
   "source": [
    "public static int breakEvenQuantity(double p, double c, double k) {\n",
    "    int quantity = 0;\n",
    "    double costBuy = 0;\n",
    "    double costMake = k;\n",
    "\n",
    "    while (costBuy < costMake) {\n",
    "        quantity++;\n",
    "        costBuy += p;\n",
    "        costMake += c;\n",
    "        // To avoid an infinite loop:\n",
    "        if (quantity > Math.pow(10,7)) {\n",
    "            System.out.println(\"Warning: you might have an Infinite Loop.\\nBreak the loop automatically.\");\n",
    "            break;\n",
    "        }\n",
    "    }\n",
    "    return quantity;\n",
    "}"
   ]
  },
  {
   "cell_type": "code",
   "execution_count": 36,
   "metadata": {},
   "outputs": [
    {
     "name": "stdout",
     "output_type": "stream",
     "text": [
      "------ Test breakEvenQuantity ------\n",
      "2000\n",
      "3334\n",
      "Warning: you might have an Infinite Loop.\n",
      "Break the loop automatically.\n",
      "10000001\n"
     ]
    }
   ],
   "source": [
    "System.out.println(\"------ Test breakEvenQuantity ------\");\n",
    "System.out.println(breakEvenQuantity(1, 0.5, 1000)); // 2000\n",
    "System.out.println(breakEvenQuantity(1, 0.7, 1000)); // more than 2000\n",
    "System.out.println(breakEvenQuantity(1, 1.5, 1000)); // INFINITE LOOP: Press CTRL+C to stop"
   ]
  },
  {
   "attachments": {},
   "cell_type": "markdown",
   "metadata": {},
   "source": [
    "## Strings and Characters"
   ]
  },
  {
   "attachments": {},
   "cell_type": "markdown",
   "metadata": {},
   "source": [
    "### Characters"
   ]
  },
  {
   "cell_type": "code",
   "execution_count": 37,
   "metadata": {},
   "outputs": [],
   "source": [
    "char c = 'A'; // one single chracter\n",
    "String s1 = \"ABCD\"; // String with many characters\n",
    "String s2 = \"A\"; // String with one chracter\n",
    "String s3 = \"\"; // emtpy String\n",
    "// char c2 = '' // ERROR: there is no empy char"
   ]
  },
  {
   "cell_type": "code",
   "execution_count": 38,
   "metadata": {},
   "outputs": [
    {
     "name": "stdout",
     "output_type": "stream",
     "text": [
      "A\n",
      "ABCD\n",
      "A\n",
      "\n"
     ]
    }
   ],
   "source": [
    "// You don't see the quotes when you print\n",
    "System.out.println(c);\n",
    "System.out.println(s1);\n",
    "System.out.println(s2);\n",
    "System.out.println(s3);"
   ]
  },
  {
   "attachments": {},
   "cell_type": "markdown",
   "metadata": {},
   "source": [
    "A char is actually a number: see @ [this website](https://www.asciitable.com/)"
   ]
  },
  {
   "cell_type": "code",
   "execution_count": 39,
   "metadata": {},
   "outputs": [
    {
     "name": "stdout",
     "output_type": "stream",
     "text": [
      "66\n",
      "B\n",
      "A1\n"
     ]
    }
   ],
   "source": [
    "System.out.println('A' + 1); // 66 (int): 'A' = 65 and 65 + 1 = 6\n",
    "System.out.println((char)('A' + 1)); // 'B' (char) - type casting\n",
    "// You cannot do \"character arithmetic\" with Strings\n",
    "System.out.println(\"A\" + 1); // \"A1\" (String)"
   ]
  },
  {
   "attachments": {},
   "cell_type": "markdown",
   "metadata": {},
   "source": [
    "### Operations with Strings\n",
    "\n",
    "See more @ [this website](https://docs.oracle.com/javase/8/docs/api/java/lang/String.html)\n",
    "\n",
    "All the operations, unless otherwise specified, will not modify the original String."
   ]
  },
  {
   "attachments": {},
   "cell_type": "markdown",
   "metadata": {},
   "source": [
    "### `String.charAt(index)`"
   ]
  },
  {
   "cell_type": "code",
   "execution_count": 40,
   "metadata": {},
   "outputs": [
    {
     "name": "stdout",
     "output_type": "stream",
     "text": [
      "C\n"
     ]
    }
   ],
   "source": [
    "char k = s1.charAt(2); // picks the char at index 2 in s1\n",
    "System.out.println(k); // 'C' (char)"
   ]
  },
  {
   "attachments": {},
   "cell_type": "markdown",
   "metadata": {},
   "source": [
    "### `String.length()`"
   ]
  },
  {
   "cell_type": "code",
   "execution_count": 41,
   "metadata": {},
   "outputs": [
    {
     "name": "stdout",
     "output_type": "stream",
     "text": [
      "4\n"
     ]
    }
   ],
   "source": [
    "int n = s1.length(); // number of characters in a String\n",
    "System.out.println(n); // 4 (int)"
   ]
  },
  {
   "attachments": {},
   "cell_type": "markdown",
   "metadata": {},
   "source": [
    "### `String.substring(beginIndex, endIndex)`\n",
    "\n",
    "***Note***: The beginIndex is included, but endIntex is excluded."
   ]
  },
  {
   "cell_type": "code",
   "execution_count": 42,
   "metadata": {},
   "outputs": [
    {
     "name": "stdout",
     "output_type": "stream",
     "text": [
      "lo Ev\n",
      "eryone\n"
     ]
    }
   ],
   "source": [
    "String s4 = \"Hello Everyone\";\n",
    "// String.substring(beginIndex, endIndex) picks the string between the two indices. \n",
    "System.out.println(s4.substring(3,8)); // \"lo Ev\" (String)\n",
    "System.out.println(s4.substring(8)); // \"eryone\" (String) // picks from the beinIndex to the end"
   ]
  },
  {
   "attachments": {},
   "cell_type": "markdown",
   "metadata": {},
   "source": [
    "### `String.toUpperCase()` and `String.toLowerCase()`"
   ]
  },
  {
   "cell_type": "code",
   "execution_count": 43,
   "metadata": {},
   "outputs": [
    {
     "name": "stdout",
     "output_type": "stream",
     "text": [
      "HELLO EVERYONE\n",
      "hello everyone\n",
      "ELL\n"
     ]
    }
   ],
   "source": [
    "System.out.println(s4.toUpperCase()); // \"HELLO EVERYONE\"\n",
    "System.out.println(s4.toLowerCase()); // \"hello everyone\"\n",
    "System.out.println(s4.toUpperCase().substring(1,4)); // \"ELL\""
   ]
  },
  {
   "attachments": {},
   "cell_type": "markdown",
   "metadata": {},
   "source": [
    "### Compare two Strings for Equality: String1.equals(String2)\n",
    "\n",
    "You cannot use `==` between two strings (weird results)\n",
    "\n",
    "We can use `==` to compare two chars (because they are fundamentally numbers)"
   ]
  },
  {
   "cell_type": "code",
   "execution_count": 44,
   "metadata": {},
   "outputs": [
    {
     "name": "stdout",
     "output_type": "stream",
     "text": [
      "false\n",
      "true\n"
     ]
    }
   ],
   "source": [
    "String x = \"hey\";\n",
    "String y = \"you\";\n",
    "String z = \"HEY\";\n",
    "System.out.println(x.equals(y)); // false\n",
    "System.out.println(x.toUpperCase().equals(z)); // true\n",
    "// System.out.println(x == y); // DON'T DO THIS!!!!!!!\n",
    "// System.out.println(x == z); // DON'T DO THIS!!!!!!!"
   ]
  },
  {
   "attachments": {},
   "cell_type": "markdown",
   "metadata": {},
   "source": [
    "### Compare Two Strings Alphabetically (Alphanumerically): `String1.compareTo(String2)`\n",
    "\n",
    "- If the two strings are equal, we will get 0\n",
    "- If the String1 comes before String2, we will get negative values\n",
    "- If the String1 comes after String2, we will get positive results"
   ]
  },
  {
   "cell_type": "code",
   "execution_count": 45,
   "metadata": {},
   "outputs": [
    {
     "name": "stdout",
     "output_type": "stream",
     "text": [
      "-17\n",
      "49\n",
      "0\n",
      "-1\n",
      "31\n",
      "31\n",
      "32\n",
      "-20\n"
     ]
    }
   ],
   "source": [
    "System.out.println(x.compareTo(y)); // < 0 (int) --> x comes before y\n",
    "System.out.println(y.compareTo(z)); // > 0\n",
    "System.out.println(x.compareTo(x)); // 0\n",
    "System.out.println(\"apple\".compareTo(\"banana\")); // < 0\n",
    "System.out.println(\"apple\".compareTo(\"BANANA\")); // > 0 --> upper cases comes before lower cases\n",
    "System.out.println(\"apple\".compareTo(\"Banana\")); // > 0 \n",
    "System.out.println(\"apple\".compareTo(\"Apple\")); // > 0\n",
    "System.out.println(\"apple\".compareTo(\"apply\")); // < 0 --> the last letter e comes before the letter y. "
   ]
  },
  {
   "attachments": {},
   "cell_type": "markdown",
   "metadata": {},
   "source": [
    "### Examples of Using Those Methods"
   ]
  },
  {
   "attachments": {},
   "cell_type": "markdown",
   "metadata": {},
   "source": [
    "***Example1***"
   ]
  },
  {
   "cell_type": "code",
   "execution_count": 48,
   "metadata": {},
   "outputs": [],
   "source": [
    "public static String mySubstring(String s, int start, int end) {\n",
    "    String result = \"\";\n",
    "    for (int i = start; i < end; i++) {\n",
    "        result += s.charAt(i);\n",
    "    }\n",
    "    return result;\n",
    "}\n",
    "\n",
    "public static String mySubstring(String s, int start, int end, int step) {\n",
    "    String result = \"\";\n",
    "    for (int i = start; i < end; i += step) {\n",
    "        result += s.charAt(i);\n",
    "    }\n",
    "    return result;\n",
    "}"
   ]
  },
  {
   "cell_type": "code",
   "execution_count": 49,
   "metadata": {},
   "outputs": [
    {
     "name": "stdout",
     "output_type": "stream",
     "text": [
      "------ Test mySubstring ------\n",
      "lo Ev\n",
      "minat\n",
      "l v\n",
      "lE\n"
     ]
    }
   ],
   "source": [
    "System.out.println(\"------ Test mySubstring ------\");\n",
    "System.out.println(mySubstring(s4, 3, 8)); // \"lo Ev\"\n",
    "System.out.println(mySubstring(\"Examination\", 3, 8)); // \"minat\"\n",
    "System.out.println(mySubstring(s4, 3, 8, 2)); // \"l v\"\n",
    "System.out.println(mySubstring(s4, 3, 8, 3)); // \"lE\""
   ]
  },
  {
   "attachments": {},
   "cell_type": "markdown",
   "metadata": {},
   "source": [
    "***Example2***"
   ]
  },
  {
   "cell_type": "code",
   "execution_count": 50,
   "metadata": {},
   "outputs": [],
   "source": [
    "public static String reverse(String s) {\n",
    "    String result = \"\";\n",
    "    for (int i = s.length() - 1; i >=0; i--) {\n",
    "        result += s.charAt(i);\n",
    "    }\n",
    "    return result;\n",
    "} // Or, we can do a while loop\n",
    "\n",
    "public static String reverse2(String s) {\n",
    "    String result = \"\";\n",
    "    for (int i = 0; i < s.length(); i++) {\n",
    "        result += s.charAt(s.length() - i - 1);\n",
    "    }\n",
    "    return result;\n",
    "}"
   ]
  },
  {
   "cell_type": "code",
   "execution_count": 51,
   "metadata": {},
   "outputs": [
    {
     "name": "stdout",
     "output_type": "stream",
     "text": [
      "------ Test reverse ------\n",
      "EDCBA\n",
      "EDCBA\n"
     ]
    }
   ],
   "source": [
    "System.out.println(\"------ Test reverse ------\");\n",
    "System.out.println(reverse(\"ABCDE\"));\n",
    "System.out.println(reverse2(\"ABCDE\"));"
   ]
  },
  {
   "attachments": {},
   "cell_type": "markdown",
   "metadata": {},
   "source": [
    "***Example3***\n",
    "```java\n",
    "mergeStrings(\"ABCD\", \"1234\") -> \"A1B2C3D4\"\n",
    "mergeStrings(\"AB\", \"1234\") -> \"A1B234\"\n",
    "mergeStrings(\"ABCD\", \"12\") -> \"A1B2CD\"\n",
    "```"
   ]
  },
  {
   "cell_type": "code",
   "execution_count": 52,
   "metadata": {},
   "outputs": [],
   "source": [
    "public static String mergeStrings(String s1, String s2) {\n",
    "    String result = \"\";\n",
    "    if (s1.length() == s2.length()) {\n",
    "        for (int i = 0; i < s1.length(); i++) {\n",
    "            result += s1.charAt(i);\n",
    "            result += s2.charAt(i);\n",
    "        }\n",
    "    } else if (s1.length() < s2.length()) {\n",
    "        for (int i = 0; i < s1.length(); i++) {\n",
    "            result += s1.charAt(i);\n",
    "            result += s2.charAt(i);\n",
    "        }\n",
    "        result += s2.substring(s1.length());\n",
    "    } else {\n",
    "        for (int i = 0; i < s2.length(); i++) {\n",
    "            result += s1.charAt(i);\n",
    "            result += s2.charAt(i);\n",
    "        }\n",
    "        result += s1.substring(s2.length());\n",
    "    }\n",
    "    return result;\n",
    "}"
   ]
  },
  {
   "cell_type": "code",
   "execution_count": 53,
   "metadata": {},
   "outputs": [
    {
     "name": "stdout",
     "output_type": "stream",
     "text": [
      "A1B2C3D4\n",
      "A1B234\n",
      "A1B2CD\n"
     ]
    }
   ],
   "source": [
    "System.out.println(mergeStrings(\"ABCD\", \"1234\")); // \"A1B2C3D4\"\n",
    "System.out.println(mergeStrings(\"AB\", \"1234\")); // \"A1B234\"\n",
    "System.out.println(mergeStrings(\"ABCD\", \"12\")); // \"A1B2CD\""
   ]
  },
  {
   "attachments": {},
   "cell_type": "markdown",
   "metadata": {},
   "source": [
    "## Arrays"
   ]
  },
  {
   "cell_type": "markdown",
   "metadata": {},
   "source": []
  }
 ],
 "metadata": {
  "kernelspec": {
   "display_name": "Java",
   "language": "java",
   "name": "java"
  },
  "language_info": {
   "codemirror_mode": "java",
   "file_extension": ".jshell",
   "mimetype": "text/x-java-source",
   "name": "java",
   "pygments_lexer": "java",
   "version": "19.0.1+10-21"
  },
  "orig_nbformat": 4
 },
 "nbformat": 4,
 "nbformat_minor": 2
}
